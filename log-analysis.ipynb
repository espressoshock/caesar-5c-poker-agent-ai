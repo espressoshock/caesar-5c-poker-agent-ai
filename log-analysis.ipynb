{
 "cells": [
  {
   "cell_type": "code",
   "execution_count": 33,
   "id": "0669fdc6-b25b-412e-bd8c-880e453f2fae",
   "metadata": {},
   "outputs": [
    {
     "name": "stdout",
     "output_type": "stream",
     "text": [
      "round {'number': 1, 'ante': '10', 'opponents': {'Random': <player.Player object at 0x0000025ACD8FC100>, 'Caesar': <player.Player object at 0x0000025ACD8FC0A0>}, 'results': {'w_type': <WinType.UNDISPUTED: (0,)>, 'p_name': 'Random', 'w_amount': 24}}\n",
      "round {'number': 2, 'ante': 0, 'opponents': {'Random': <player.Player object at 0x0000025ACD8FCE20>, 'Caesar': <player.Player object at 0x0000025ACD8FCF70>}, 'results': {'w_type': <WinType.UNDISPUTED: (0,)>, 'p_name': 'Random', 'w_amount': 20}}\n",
      "round {'number': 3, 'ante': 0, 'opponents': {'Random': <player.Player object at 0x0000025ACD6C4820>, 'Caesar': <player.Player object at 0x0000025ACD6C4A90>}, 'results': {'w_type': <WinType.DISPUTED: 1>, 'p_name': 'Caesar', 'w_amount': 20}}\n",
      "round {'number': 4, 'ante': 0, 'opponents': {'Random': <player.Player object at 0x0000025ACD79E730>, 'Caesar': <player.Player object at 0x0000025ACD79EAF0>}, 'results': {'w_type': <WinType.UNDISPUTED: (0,)>, 'p_name': 'Random', 'w_amount': 20}}\n",
      "round {'number': 5, 'ante': 0, 'opponents': {'Random': <player.Player object at 0x0000025ACD79EA90>, 'Caesar': <player.Player object at 0x0000025ACD8E2520>}, 'results': {'w_type': <WinType.DISPUTED: 1>, 'p_name': 'Caesar', 'w_amount': 20}}\n",
      "round {'number': 6, 'ante': 0, 'opponents': {'Random': <player.Player object at 0x0000025ACD8E2B20>, 'Caesar': <player.Player object at 0x0000025ACD8E2B50>}, 'results': {'w_type': <WinType.UNDISPUTED: (0,)>, 'p_name': 'Random', 'w_amount': 20}}\n",
      "round {'number': 7, 'ante': 0, 'opponents': {'Random': <player.Player object at 0x0000025ACD8E2D90>, 'Caesar': <player.Player object at 0x0000025ACD8E25B0>}, 'results': {'w_type': <WinType.DISPUTED: 1>, 'p_name': 'Random', 'w_amount': 20}}\n"
     ]
    }
   ],
   "source": [
    "import pandas as pd\n",
    "import json\n",
    "\n",
    "rounds = pd.read_pickle(r'dumps/dump_1641118662.044854.log')\n",
    "\n",
    "for round in rounds:\n",
    "    print(\"round\", round.__dict__)"
   ]
  }
 ],
 "metadata": {
  "kernelspec": {
   "display_name": "Python 3",
   "language": "python",
   "name": "python3"
  },
  "language_info": {
   "codemirror_mode": {
    "name": "ipython",
    "version": 3
   },
   "file_extension": ".py",
   "mimetype": "text/x-python",
   "name": "python",
   "nbconvert_exporter": "python",
   "pygments_lexer": "ipython3",
   "version": "3.8.8"
  }
 },
 "nbformat": 4,
 "nbformat_minor": 5
}
